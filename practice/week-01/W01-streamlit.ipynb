{
 "cells": [
  {
   "cell_type": "markdown",
   "metadata": {},
   "source": [
    "# 연세대학교 정보대학원 AI기법과 활용"
   ]
  },
  {
   "cell_type": "markdown",
   "metadata": {},
   "source": [
    "## 0. Streamlit 설치"
   ]
  },
  {
   "cell_type": "code",
   "execution_count": null,
   "metadata": {},
   "outputs": [],
   "source": [
    "import sys"
   ]
  },
  {
   "cell_type": "code",
   "execution_count": null,
   "metadata": {
    "scrolled": true
   },
   "outputs": [],
   "source": [
    "!{sys.executable} -m pip install streamlit"
   ]
  },
  {
   "cell_type": "markdown",
   "metadata": {},
   "source": [
    "## 1. Hello 띄우기"
   ]
  },
  {
   "cell_type": "code",
   "execution_count": null,
   "metadata": {},
   "outputs": [],
   "source": [
    "%%writefile test1.py\n",
    "import streamlit as st\n",
    "st.title(\"Hello\")"
   ]
  },
  {
   "cell_type": "code",
   "execution_count": null,
   "metadata": {},
   "outputs": [],
   "source": [
    "!{sys.executable} -m streamlit run test1.py"
   ]
  },
  {
   "cell_type": "markdown",
   "metadata": {},
   "source": [
    "## 2. 텍스트 출력하기"
   ]
  },
  {
   "cell_type": "code",
   "execution_count": null,
   "metadata": {},
   "outputs": [],
   "source": [
    "%%writefile test2.py\n",
    "import streamlit as st\n",
    "st.title(\"Hello\")\n",
    "st.text('Streamlit 너무 좋아요!')\n"
   ]
  },
  {
   "cell_type": "code",
   "execution_count": null,
   "metadata": {},
   "outputs": [],
   "source": [
    "!{sys.executable} -m streamlit run test2.py --server.runOnSave true"
   ]
  },
  {
   "cell_type": "markdown",
   "metadata": {},
   "source": [
    "## 3. 이미지 출력하기"
   ]
  },
  {
   "cell_type": "code",
   "execution_count": null,
   "metadata": {},
   "outputs": [],
   "source": [
    "%%writefile test3.py\n",
    "\n",
    "import streamlit as st\n",
    "st.title(\"Hello\")\n",
    "st.text('Streamlit 너무 좋아요!')\n",
    "st.image('https://source.unsplash.com/random/512x512')\n"
   ]
  },
  {
   "cell_type": "code",
   "execution_count": null,
   "metadata": {},
   "outputs": [],
   "source": [
    "!{sys.executable} -m streamlit run test3.py --server.runOnSave true"
   ]
  },
  {
   "cell_type": "markdown",
   "metadata": {},
   "source": [
    "## 4. 이미지에 캡션달기"
   ]
  },
  {
   "cell_type": "code",
   "execution_count": null,
   "metadata": {},
   "outputs": [],
   "source": [
    "%%writefile test4.py\n",
    "\n",
    "import streamlit as st\n",
    "st.title(\"Hello\")\n",
    "st.text('Streamlit 너무 좋아요!')\n",
    "st.image('https://source.unsplash.com/random/512x512', '이 사진 너무 멋지지 않나요!?')\n"
   ]
  },
  {
   "cell_type": "code",
   "execution_count": null,
   "metadata": {},
   "outputs": [],
   "source": [
    "!{sys.executable} -m streamlit run test4.py --server.runOnSave true"
   ]
  },
  {
   "cell_type": "markdown",
   "metadata": {},
   "source": [
    "## 5. 텍스트 데이터 입력받기"
   ]
  },
  {
   "cell_type": "code",
   "execution_count": null,
   "metadata": {},
   "outputs": [],
   "source": [
    "%%writefile test5.py\n",
    "\n",
    "import streamlit as st\n",
    "st.title(\"Hello\")\n",
    "st.text('Streamlit 너무 좋아요!')\n",
    "st.image('https://source.unsplash.com/random/512x512', '이 사진 너무 멋지지 않나요!?')\n",
    "\n",
    "my_name = st.text_input(\"이름이 어떻게 되시나요?\")\n",
    "if my_name:\n",
    "    st.text('안녕하세요 {}님!'.format(my_name))\n"
   ]
  },
  {
   "cell_type": "code",
   "execution_count": null,
   "metadata": {},
   "outputs": [],
   "source": [
    "!{sys.executable} -m streamlit run test5.py --server.runOnSave true"
   ]
  },
  {
   "cell_type": "markdown",
   "metadata": {},
   "source": [
    "## 6. 이미지 데이터 입력받기"
   ]
  },
  {
   "cell_type": "code",
   "execution_count": null,
   "metadata": {},
   "outputs": [],
   "source": [
    "%%writefile app.py\n",
    "\n",
    "import streamlit as st\n",
    "st.title(\"Hello\")\n",
    "my_name = st.text_input(\"이름이 어떻게 되시나요?\")\n",
    "if my_name:\n",
    "    st.text('안녕하세요 {}님!'.format(my_name))\n",
    "\n",
    "my_pic = st.file_uploader(\"사진을 올려주세요!\")\n",
    "if my_pic:\n",
    "    st.image(my_pic, \"멋지네요 {}님\".format(my_name))\n"
   ]
  },
  {
   "cell_type": "code",
   "execution_count": null,
   "metadata": {
    "scrolled": false
   },
   "outputs": [],
   "source": [
    "!{sys.executable} -m streamlit run app.py --server.runOnSave true"
   ]
  },
  {
   "cell_type": "code",
   "execution_count": null,
   "metadata": {},
   "outputs": [],
   "source": []
  }
 ],
 "metadata": {
  "kernelspec": {
   "display_name": "Python 3",
   "language": "python",
   "name": "python3"
  },
  "language_info": {
   "codemirror_mode": {
    "name": "ipython",
    "version": 3
   },
   "file_extension": ".py",
   "mimetype": "text/x-python",
   "name": "python",
   "nbconvert_exporter": "python",
   "pygments_lexer": "ipython3",
   "version": "3.7.6"
  }
 },
 "nbformat": 4,
 "nbformat_minor": 4
}
