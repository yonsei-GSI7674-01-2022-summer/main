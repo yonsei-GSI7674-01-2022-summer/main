{
 "cells": [
  {
   "cell_type": "markdown",
   "metadata": {},
   "source": [
    "# AI기법과 활용 - Week 04\n",
    "멀티쓰레딩 기법으로, 빠르게 데이터를 수집하는 방법에 대해 배웁니다\n",
    "____"
   ]
  },
  {
   "cell_type": "code",
   "execution_count": null,
   "metadata": {},
   "outputs": [],
   "source": [
    "import requests\n",
    "from bs4 import BeautifulSoup\n",
    "\n"
   ]
  },
  {
   "cell_type": "markdown",
   "metadata": {},
   "source": [
    "## 1. 영화 리스트 불러오기"
   ]
  },
  {
   "cell_type": "code",
   "execution_count": null,
   "metadata": {},
   "outputs": [],
   "source": [
    "def get_movie_list(page=1):\n",
    "    url = \"https://movie.naver.com/movie/sdb/rank/rmovie.naver?sel=pnt&page={}\".format(page)\n",
    "    res = requests.get(url)\n",
    "    html_doc = res.text\n",
    "    soup = BeautifulSoup(html_doc, 'html.parser')\n",
    "    table = soup.find(\"table\",attrs={\"class\":\"list_ranking\"})\n",
    "    rows = table.find_all(\"tr\")\n",
    "    MOVIE_URL_PREFIX = \"https://movie.naver.com\"\n",
    "    movie_list = []\n",
    "    for row in rows:\n",
    "        anchor = row.find(\"a\")\n",
    "        if anchor:\n",
    "            if anchor.has_attr('href'):\n",
    "                movie_list.append(MOVIE_URL_PREFIX+anchor['href'])\n",
    "    return movie_list"
   ]
  },
  {
   "cell_type": "code",
   "execution_count": null,
   "metadata": {},
   "outputs": [],
   "source": [
    "movie_list = get_movie_list(page=1)"
   ]
  },
  {
   "cell_type": "markdown",
   "metadata": {},
   "source": [
    "## 2. 개별 영화의 정보 불러오기"
   ]
  },
  {
   "cell_type": "code",
   "execution_count": null,
   "metadata": {},
   "outputs": [],
   "source": [
    "def get_movie_info(url):\n",
    "\n",
    "    res = requests.get(url)\n",
    "    html_doc = res.text\n",
    "    soup = BeautifulSoup(html_doc, 'html.parser')\n",
    "    title = story = poster = year = \"\"\n",
    "    try:\n",
    "        title = soup.find(\"h3\", attrs={\"class\":\"h_movie\"}).find('a').text\n",
    "        story = soup.find(\"p\", attrs={\"class\":\"con_tx\"}).text\n",
    "        poster = soup.find(\"div\", attrs={\"class\":\"poster\"}).find(\"img\")['src']\n",
    "        year = soup.find(\"strong\", attrs={\"class\":\"h_movie2\"}).text.split(\",\")[-1].strip()\n",
    "    except:\n",
    "        pass\n",
    "    return title, story, poster, year"
   ]
  },
  {
   "cell_type": "code",
   "execution_count": null,
   "metadata": {},
   "outputs": [],
   "source": [
    "url = \"https://movie.naver.com/movie/bi/mi/basic.naver?code=22082\"\n",
    "get_movie_info(url)"
   ]
  },
  {
   "cell_type": "code",
   "execution_count": null,
   "metadata": {},
   "outputs": [],
   "source": [
    "import time"
   ]
  },
  {
   "cell_type": "markdown",
   "metadata": {},
   "source": [
    "## 3. 이전 방식으로 스크래핑"
   ]
  },
  {
   "cell_type": "code",
   "execution_count": null,
   "metadata": {
    "scrolled": false
   },
   "outputs": [],
   "source": [
    "\n",
    "movies = []\n",
    "start = time.time()\n",
    "for i in range(1,2):\n",
    "    \n",
    "    print(\"현재 페이지:\",i)\n",
    "    try:\n",
    "        movie_list = get_movie_list(page=i)\n",
    "        for movie_url in movie_list:\n",
    "            title, story, poster, year = get_movie_info(movie_url)\n",
    "            if title:\n",
    "                movie = {\"title\":title, \"story\":story, \"poster\":poster, \"year\":year, \"url\":url}\n",
    "                movies.append(movie)\n",
    "    except Exception as e:\n",
    "        print(e)\n",
    "        break\n",
    "        pass\n",
    "    print(\"수집된 영화:\",len(movies))\n",
    "    \n",
    "    end = time.time() - start\n",
    "    print(\"소요시간:{} 초\".format(round(end)))\n",
    "\n"
   ]
  },
  {
   "cell_type": "markdown",
   "metadata": {},
   "source": [
    "## 4. 멀티 쓰레딩\n"
   ]
  },
  {
   "cell_type": "markdown",
   "metadata": {},
   "source": [
    "### 4-1. 일반적인 순차적인 request"
   ]
  },
  {
   "cell_type": "code",
   "execution_count": null,
   "metadata": {},
   "outputs": [],
   "source": [
    "def get_url(url):\n",
    "    return requests.get(url)\n",
    "\n",
    "list_of_urls = [\"https://postman-echo.com/get?foo1=bar1&foo2=bar2\"]*10\n",
    "start = time.time()\n",
    "for url in list_of_urls:\n",
    "    print(get_url(url))\n",
    "end = time.time() - start\n",
    "print(\"소요시간:{} 초\".format(round(end)))"
   ]
  },
  {
   "cell_type": "markdown",
   "metadata": {},
   "source": [
    "### 4-2. 멀티쓰레딩을 활용한 request"
   ]
  },
  {
   "cell_type": "code",
   "execution_count": null,
   "metadata": {},
   "outputs": [],
   "source": [
    "import requests\n",
    "from concurrent.futures import ThreadPoolExecutor\n",
    "\n",
    "def get_url(url):\n",
    "    return requests.get(url)\n",
    "\n",
    "list_of_urls = [\"https://postman-echo.com/get?foo1=bar1&foo2=bar2\"]*10\n",
    "start = time.time()\n",
    "\n",
    "with ThreadPoolExecutor(max_workers=10) as pool:\n",
    "    response_list = list(pool.map(get_url,list_of_urls))\n",
    "\n",
    "for response in response_list:\n",
    "    print(response)\n",
    "end = time.time() - start\n",
    "print(\"소요시간:{} 초\".format(round(end)))"
   ]
  },
  {
   "cell_type": "markdown",
   "metadata": {},
   "source": [
    "## 5. 멀티쓰레딩을 활용한 스크래핑"
   ]
  },
  {
   "cell_type": "code",
   "execution_count": null,
   "metadata": {
    "scrolled": true
   },
   "outputs": [],
   "source": [
    "from concurrent.futures import ThreadPoolExecutor\n",
    "\n",
    "movies = []\n",
    "start = time.time()\n",
    "\n",
    "for i in range(1, 100):\n",
    "    print(\"현재 페이지:\",i)\n",
    "    try:\n",
    "        movie_list = get_movie_list(page=i)\n",
    "        with ThreadPoolExecutor(max_workers=10) as pool:\n",
    "            movie_info_list = list(pool.map(get_movie_info,movie_list))\n",
    "        for movie, url in zip(movie_info_list,movie_list):\n",
    "            title, story, poster, year = movie\n",
    "            if title:\n",
    "                movie = {\"title\":title, \"story\":story, \"poster\":poster, \"year\":year, \"url\":url}\n",
    "                movies.append(movie)\n",
    "    except Exception as e:\n",
    "        print(e)\n",
    "        break\n",
    "        pass\n",
    "    print(\"수집된 영화:\",len(movies))\n",
    "    end = time.time() - start\n",
    "    print(\"소요시간:{} 초\".format(round(end)))\n"
   ]
  },
  {
   "cell_type": "markdown",
   "metadata": {},
   "source": [
    "## 6. 데이터 저장"
   ]
  },
  {
   "cell_type": "code",
   "execution_count": null,
   "metadata": {},
   "outputs": [],
   "source": [
    "import pandas as pd"
   ]
  },
  {
   "cell_type": "code",
   "execution_count": null,
   "metadata": {},
   "outputs": [],
   "source": [
    "df = pd.DataFrame(movies)"
   ]
  },
  {
   "cell_type": "code",
   "execution_count": null,
   "metadata": {},
   "outputs": [],
   "source": [
    "df.drop_duplicates(inplace=True)\n",
    "df.dropna(inplace=True)"
   ]
  },
  {
   "cell_type": "code",
   "execution_count": null,
   "metadata": {},
   "outputs": [],
   "source": [
    "df['story'] = df['story'].str.replace(\"\\r\",\" \").replace(\"\\t\",\" \").replace(\"\\n\",\" \")\n",
    "df['story'] = df['story'].astype('U')\n",
    "\n"
   ]
  },
  {
   "cell_type": "code",
   "execution_count": null,
   "metadata": {},
   "outputs": [],
   "source": [
    "df.to_csv(\"movies.csv\",sep=\"\\t\", index=False)"
   ]
  },
  {
   "cell_type": "code",
   "execution_count": null,
   "metadata": {},
   "outputs": [],
   "source": []
  }
 ],
 "metadata": {
  "kernelspec": {
   "display_name": "Python 3",
   "language": "python",
   "name": "python3"
  },
  "language_info": {
   "codemirror_mode": {
    "name": "ipython",
    "version": 3
   },
   "file_extension": ".py",
   "mimetype": "text/x-python",
   "name": "python",
   "nbconvert_exporter": "python",
   "pygments_lexer": "ipython3",
   "version": "3.7.6"
  },
  "vscode": {
   "interpreter": {
    "hash": "40d3a090f54c6569ab1632332b64b2c03c39dcf918b08424e98f38b5ae0af88f"
   }
  }
 },
 "nbformat": 4,
 "nbformat_minor": 4
}
