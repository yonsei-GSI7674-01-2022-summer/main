{
 "cells": [
  {
   "cell_type": "markdown",
   "metadata": {},
   "source": [
    "# AI기법과 활용 - Week 07\n",
    "EasyOCR을 활용한 OCR\n",
    "- https://github.com/JaidedAI/EasyOCR\n",
    "____"
   ]
  },
  {
   "cell_type": "markdown",
   "metadata": {},
   "source": [
    "## 1. EasyOCR 설치\n"
   ]
  },
  {
   "cell_type": "code",
   "execution_count": null,
   "metadata": {
    "scrolled": true
   },
   "outputs": [],
   "source": [
    "import sys\n",
    "!pip install easyocr\n",
    "!{sys.executable} -m pip install easyocr"
   ]
  },
  {
   "cell_type": "markdown",
   "metadata": {},
   "source": [
    "## 2. EasyOCR로 한국어 이미지 인식\n"
   ]
  },
  {
   "cell_type": "code",
   "execution_count": null,
   "metadata": {},
   "outputs": [],
   "source": [
    "import easyocr\n",
    "reader = easyocr.Reader(['ko']) # this needs to run only once to load the model into memory\n",
    "result = reader.readtext('image.png')"
   ]
  },
  {
   "cell_type": "code",
   "execution_count": null,
   "metadata": {},
   "outputs": [],
   "source": [
    "import cv2\n",
    "from IPython.display import display\n",
    "from PIL import Image\n",
    "img = cv2.imread('image.png')\n",
    "\n",
    "\n",
    "display(Image.fromarray(img))\n",
    "\n",
    "\n"
   ]
  },
  {
   "cell_type": "code",
   "execution_count": null,
   "metadata": {},
   "outputs": [],
   "source": [
    "for block in result:\n",
    "    print(block[1])"
   ]
  },
  {
   "cell_type": "code",
   "execution_count": null,
   "metadata": {},
   "outputs": [],
   "source": [
    "img =  cv2.imread('image.png')\n",
    "\n",
    "for (bbox, text, prob) in result: \n",
    "    (tl, tr, br, bl) = bbox\n",
    "    tl = (int(tl[0]), int(tl[1]))\n",
    "    tr = (int(tr[0]), int(tr[1]))\n",
    "    br = (int(br[0]), int(br[1]))\n",
    "    bl = (int(bl[0]), int(bl[1]))\n",
    "    cv2.rectangle(img, tl, br, (0, 255, 0), 2)\n",
    "\n",
    "display(Image.fromarray(img))\n"
   ]
  },
  {
   "cell_type": "code",
   "execution_count": null,
   "metadata": {},
   "outputs": [],
   "source": [
    "import cv2\n",
    "import matplotlib.pyplot as plt\n",
    "img =  cv2.imread('image-nice.jpeg')\n",
    "\n",
    "img = cv2.cvtColor(img, cv2.COLOR_BGR2RGB)\n",
    "display(Image.fromarray(img))"
   ]
  },
  {
   "cell_type": "code",
   "execution_count": null,
   "metadata": {},
   "outputs": [],
   "source": [
    "reader = easyocr.Reader(['en']) # this needs to run only once to load the model into memory\n",
    "result = reader.readtext('image-nice.jpeg')"
   ]
  },
  {
   "cell_type": "code",
   "execution_count": null,
   "metadata": {},
   "outputs": [],
   "source": [
    "img =  cv2.imread('image-nice.jpeg')\n",
    "\n",
    "for (bbox, text, prob) in result: \n",
    "    (tl, tr, br, bl) = bbox\n",
    "    print(text)\n",
    "    tl = (int(tl[0]), int(tl[1]))\n",
    "    tr = (int(tr[0]), int(tr[1]))\n",
    "    br = (int(br[0]), int(br[1]))\n",
    "    bl = (int(bl[0]), int(bl[1]))\n",
    "    cv2.rectangle(img, tl, br, (0, 255, 0), 2)\n",
    "    \n",
    "img = cv2.cvtColor(img, cv2.COLOR_BGR2RGB)\n",
    "display(Image.fromarray(img))"
   ]
  },
  {
   "cell_type": "code",
   "execution_count": null,
   "metadata": {},
   "outputs": [],
   "source": [
    "reader = easyocr.Reader(['en','ko']) # this needs to run only once to load the model into memory\n",
    "result = reader.readtext('image-ko-real.jpeg')\n",
    "result"
   ]
  },
  {
   "cell_type": "code",
   "execution_count": null,
   "metadata": {},
   "outputs": [],
   "source": [
    "img =  cv2.imread('image-ko-real.jpeg')\n",
    "\n",
    "for (bbox, text, prob) in result: \n",
    "    (tl, tr, br, bl) = bbox\n",
    "    print(text)\n",
    "    tl = (int(tl[0]), int(tl[1]))\n",
    "    tr = (int(tr[0]), int(tr[1]))\n",
    "    br = (int(br[0]), int(br[1]))\n",
    "    bl = (int(bl[0]), int(bl[1]))\n",
    "    cv2.rectangle(img, tl, br, (0, 0, 255), 2)\n",
    "    \n",
    "img = cv2.cvtColor(img, cv2.COLOR_BGR2RGB)\n",
    "display(Image.fromarray(img))"
   ]
  },
  {
   "cell_type": "code",
   "execution_count": null,
   "metadata": {},
   "outputs": [],
   "source": [
    "reader = easyocr.Reader(['en']) \n",
    "result = reader.readtext('image-paper.png')\n",
    "img = cv2.imread('image-paper.png')\n",
    "display(Image.fromarray(img))\n",
    "for (bbox, text, prob) in result: \n",
    "    (tl, tr, br, bl) = bbox\n",
    "    print(text)\n",
    "    tl = (int(tl[0]), int(tl[1]))\n",
    "    tr = (int(tr[0]), int(tr[1]))\n",
    "    br = (int(br[0]), int(br[1]))\n",
    "    bl = (int(bl[0]), int(bl[1]))\n",
    "    cv2.rectangle(img, tl, br, (0, 255, 0), 2)\n",
    "    \n",
    "img = cv2.cvtColor(img, cv2.COLOR_BGR2RGB)\n",
    "display(Image.fromarray(img))"
   ]
  },
  {
   "cell_type": "code",
   "execution_count": null,
   "metadata": {},
   "outputs": [],
   "source": []
  }
 ],
 "metadata": {
  "kernelspec": {
   "display_name": "Python 3",
   "language": "python",
   "name": "python3"
  },
  "language_info": {
   "codemirror_mode": {
    "name": "ipython",
    "version": 3
   },
   "file_extension": ".py",
   "mimetype": "text/x-python",
   "name": "python",
   "nbconvert_exporter": "python",
   "pygments_lexer": "ipython3",
   "version": "3.7.6"
  }
 },
 "nbformat": 4,
 "nbformat_minor": 5
}
