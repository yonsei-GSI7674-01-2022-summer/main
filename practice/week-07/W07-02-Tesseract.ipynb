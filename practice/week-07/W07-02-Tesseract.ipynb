{
 "cells": [
  {
   "cell_type": "markdown",
   "metadata": {},
   "source": [
    "# AI기법과 활용 - Week 07\n",
    "Tesseract를 활용한 OCR\n",
    "- https://github.com/tesseract-ocr/tesseract\n",
    "- 문서의 구성 요소 (페이지, 블락, 문단, 문장, 단어)를 고려한 OCR\n",
    "____"
   ]
  },
  {
   "cell_type": "markdown",
   "metadata": {},
   "source": [
    "## 1. 관련 라이브러리 설치"
   ]
  },
  {
   "cell_type": "code",
   "execution_count": null,
   "metadata": {},
   "outputs": [],
   "source": [
    "import sys\n",
    "!{sys.executable} -m pip install pytesseract\n",
    "!pip install pytesseract\n",
    "!{sys.executable} -m pip install -U Pillow\n",
    "!pip install -U Pillow\n",
    "\n",
    "#Linux환경에서만 실행\n",
    "!sudo apt install tesseract-ocr\n",
    "\n"
   ]
  },
  {
   "cell_type": "code",
   "execution_count": null,
   "metadata": {},
   "outputs": [],
   "source": [
    "import cv2 \n",
    "import pytesseract\n",
    "import matplotlib.pyplot as plt\n",
    "from IPython.display import display\n",
    "from PIL import Image\n",
    "img = cv2.imread('image-paper.png')\n",
    "\n",
    "\n",
    "display(Image.fromarray(img))\n",
    "\n",
    "\n"
   ]
  },
  {
   "cell_type": "code",
   "execution_count": null,
   "metadata": {},
   "outputs": [],
   "source": [
    "pytesseract.image_to_string(img)"
   ]
  },
  {
   "cell_type": "code",
   "execution_count": null,
   "metadata": {},
   "outputs": [],
   "source": [
    "import pandas as pd\n",
    "from pytesseract import Output\n",
    "\n",
    "d = pytesseract.image_to_data(img, lang=\"eng\", output_type=Output.DICT)\n",
    "df = pd.DataFrame(d)"
   ]
  },
  {
   "cell_type": "code",
   "execution_count": null,
   "metadata": {},
   "outputs": [],
   "source": [
    "df"
   ]
  },
  {
   "cell_type": "code",
   "execution_count": null,
   "metadata": {
    "scrolled": false
   },
   "outputs": [],
   "source": [
    "n_boxes = len(d['level'])\n",
    "levels = ('page', 'block', 'paragraph', 'line', 'word')\n",
    "for level, level_name in enumerate(levels):\n",
    "    level += 1\n",
    "    img = cv2.imread('image-paper.png')\n",
    "    for i in range(n_boxes):\n",
    "        if d['level'][i] == level:\n",
    "            (x, y, w, h) = (d['left'][i], d['top'][i], d['width'][i], d['height'][i])\n",
    "            cv2.rectangle(img, (x,y), (x+w,y+h),(0,255,0),1)\n",
    "    print(\"LEVEL: \",level, level_name)\n",
    "    display(Image.fromarray(img))\n",
    "\n",
    "            "
   ]
  },
  {
   "cell_type": "code",
   "execution_count": null,
   "metadata": {},
   "outputs": [],
   "source": [
    "text_blocks = df.groupby('block_num')['text'].transform(lambda x: ' '.join(x)).drop_duplicates()\n",
    "for text_block in text_blocks:\n",
    "    print(text_block)\n",
    "    print(\"=\"*50)"
   ]
  },
  {
   "cell_type": "code",
   "execution_count": null,
   "metadata": {},
   "outputs": [],
   "source": [
    "text_blocks = df.groupby(['block_num', 'line_num'])['text'].transform(lambda x: ' '.join(x)).drop_duplicates()\n",
    "for text_block in text_blocks:\n",
    "    print(text_block)\n",
    "    print(\"=\"*50)"
   ]
  },
  {
   "cell_type": "code",
   "execution_count": null,
   "metadata": {},
   "outputs": [],
   "source": []
  }
 ],
 "metadata": {
  "kernelspec": {
   "display_name": "Python 3",
   "language": "python",
   "name": "python3"
  },
  "language_info": {
   "codemirror_mode": {
    "name": "ipython",
    "version": 3
   },
   "file_extension": ".py",
   "mimetype": "text/x-python",
   "name": "python",
   "nbconvert_exporter": "python",
   "pygments_lexer": "ipython3",
   "version": "3.7.6"
  }
 },
 "nbformat": 4,
 "nbformat_minor": 4
}
