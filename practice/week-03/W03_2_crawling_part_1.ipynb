{
 "cells": [
  {
   "cell_type": "markdown",
   "metadata": {},
   "source": [
    "# AI기법과 활용 - Week 03 : 크롤링 Part 1\n",
    "---\n",
    "페이지에서 링크를 추출 하고 그 링크의 페이지에 접속한 뒤 또 링크를 추출하고 ....반복"
   ]
  },
  {
   "cell_type": "code",
   "execution_count": null,
   "metadata": {},
   "outputs": [],
   "source": [
    "import requests\n",
    "from bs4 import BeautifulSoup "
   ]
  },
  {
   "cell_type": "code",
   "execution_count": null,
   "metadata": {},
   "outputs": [],
   "source": [
    "#시작 링크\n",
    "url = \"https://ko.wikipedia.org/wiki/대한민국\"\n",
    "res = requests.get(url)\n",
    "soup = BeautifulSoup(res.text, \"html.parser\")\n",
    "links = soup.find_all(\"a\")\n",
    "#이 페이지에는 총 4205개의 링크가 있습니다.\n",
    "print(len(links))"
   ]
  },
  {
   "cell_type": "code",
   "execution_count": null,
   "metadata": {},
   "outputs": [],
   "source": [
    "# 하지만 모두 유의미한 링크 일까요?\n",
    "links[:20]"
   ]
  },
  {
   "cell_type": "code",
   "execution_count": null,
   "metadata": {},
   "outputs": [],
   "source": [
    "from urllib import parse\n",
    "\n",
    "\n",
    "for link in links:\n",
    "    url = parse.unquote(link.attrs['href'])\n",
    "    if not url.startswith(\"/wiki\"): \n",
    "        continue\n",
    "    print(url)\n",
    "\n"
   ]
  },
  {
   "cell_type": "code",
   "execution_count": null,
   "metadata": {
    "scrolled": true
   },
   "outputs": [],
   "source": [
    "from urllib import parse\n",
    "import re\n",
    "\n",
    "urls = []\n",
    "for link in links:\n",
    "    url = parse.unquote(link.attrs['href'])\n",
    "\n",
    "    if not url.startswith(\"/wiki\"): \n",
    "        continue\n",
    "    if \":\" in url:\n",
    "        continue\n",
    "    if url.split(\".\")[-1] in [\"png\",\"svg\",\"jpg\",\"jpeg\"]: \n",
    "        continue\n",
    "    print(url)\n",
    "    urls.append(url)\n",
    "\n"
   ]
  },
  {
   "cell_type": "code",
   "execution_count": null,
   "metadata": {},
   "outputs": [],
   "source": [
    "print(len(urls))"
   ]
  },
  {
   "cell_type": "code",
   "execution_count": null,
   "metadata": {},
   "outputs": [],
   "source": [
    "unique_urls = list(set(urls))\n",
    "len(unique_urls)"
   ]
  },
  {
   "cell_type": "code",
   "execution_count": null,
   "metadata": {},
   "outputs": [],
   "source": []
  }
 ],
 "metadata": {
  "kernelspec": {
   "display_name": "Python 3",
   "language": "python",
   "name": "python3"
  },
  "language_info": {
   "codemirror_mode": {
    "name": "ipython",
    "version": 3
   },
   "file_extension": ".py",
   "mimetype": "text/x-python",
   "name": "python",
   "nbconvert_exporter": "python",
   "pygments_lexer": "ipython3",
   "version": "3.7.6"
  }
 },
 "nbformat": 4,
 "nbformat_minor": 2
}
